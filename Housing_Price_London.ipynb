{
  "nbformat": 4,
  "nbformat_minor": 0,
  "metadata": {
    "kernelspec": {
      "display_name": "Python 3",
      "language": "python",
      "name": "python3"
    },
    "language_info": {
      "codemirror_mode": {
        "name": "ipython",
        "version": 3
      },
      "file_extension": ".py",
      "mimetype": "text/x-python",
      "name": "python",
      "nbconvert_exporter": "python",
      "pygments_lexer": "ipython3",
      "version": "3.7.4"
    },
    "colab": {
      "name": "Housing_Price_London.ipynb",
      "provenance": [],
      "include_colab_link": true
    }
  },
  "cells": [
    {
      "cell_type": "markdown",
      "metadata": {
        "id": "view-in-github",
        "colab_type": "text"
      },
      "source": [
        "<a href=\"https://colab.research.google.com/github/sandip924/Data_science_projects/blob/main/Housing_Price_London.ipynb\" target=\"_parent\"><img src=\"https://colab.research.google.com/assets/colab-badge.svg\" alt=\"Open In Colab\"/></a>"
      ]
    },
    {
      "cell_type": "code",
      "metadata": {
        "id": "kLEP76IpMLUJ"
      },
      "source": [
        "import pandas as pd"
      ],
      "execution_count": 1,
      "outputs": []
    },
    {
      "cell_type": "code",
      "metadata": {
        "colab": {
          "base_uri": "https://localhost:8080/",
          "height": 204
        },
        "id": "lTg2jM90MLUO",
        "outputId": "08fb831e-ae2b-492e-aee9-0e83b9af73b8"
      },
      "source": [
        "house=pd.read_csv('London Housing Data.csv')\n",
        "house.head()"
      ],
      "execution_count": 2,
      "outputs": [
        {
          "output_type": "execute_result",
          "data": {
            "text/html": [
              "<div>\n",
              "<style scoped>\n",
              "    .dataframe tbody tr th:only-of-type {\n",
              "        vertical-align: middle;\n",
              "    }\n",
              "\n",
              "    .dataframe tbody tr th {\n",
              "        vertical-align: top;\n",
              "    }\n",
              "\n",
              "    .dataframe thead th {\n",
              "        text-align: right;\n",
              "    }\n",
              "</style>\n",
              "<table border=\"1\" class=\"dataframe\">\n",
              "  <thead>\n",
              "    <tr style=\"text-align: right;\">\n",
              "      <th></th>\n",
              "      <th>date</th>\n",
              "      <th>area</th>\n",
              "      <th>average_price</th>\n",
              "      <th>code</th>\n",
              "      <th>houses_sold</th>\n",
              "      <th>no_of_crimes</th>\n",
              "    </tr>\n",
              "  </thead>\n",
              "  <tbody>\n",
              "    <tr>\n",
              "      <th>0</th>\n",
              "      <td>1/1/1995</td>\n",
              "      <td>city of london</td>\n",
              "      <td>91449</td>\n",
              "      <td>E09000001</td>\n",
              "      <td>17.0</td>\n",
              "      <td>NaN</td>\n",
              "    </tr>\n",
              "    <tr>\n",
              "      <th>1</th>\n",
              "      <td>2/1/1995</td>\n",
              "      <td>city of london</td>\n",
              "      <td>82203</td>\n",
              "      <td>E09000001</td>\n",
              "      <td>7.0</td>\n",
              "      <td>NaN</td>\n",
              "    </tr>\n",
              "    <tr>\n",
              "      <th>2</th>\n",
              "      <td>3/1/1995</td>\n",
              "      <td>city of london</td>\n",
              "      <td>79121</td>\n",
              "      <td>E09000001</td>\n",
              "      <td>14.0</td>\n",
              "      <td>NaN</td>\n",
              "    </tr>\n",
              "    <tr>\n",
              "      <th>3</th>\n",
              "      <td>4/1/1995</td>\n",
              "      <td>city of london</td>\n",
              "      <td>77101</td>\n",
              "      <td>E09000001</td>\n",
              "      <td>7.0</td>\n",
              "      <td>NaN</td>\n",
              "    </tr>\n",
              "    <tr>\n",
              "      <th>4</th>\n",
              "      <td>5/1/1995</td>\n",
              "      <td>city of london</td>\n",
              "      <td>84409</td>\n",
              "      <td>E09000001</td>\n",
              "      <td>10.0</td>\n",
              "      <td>NaN</td>\n",
              "    </tr>\n",
              "  </tbody>\n",
              "</table>\n",
              "</div>"
            ],
            "text/plain": [
              "       date            area  ...  houses_sold no_of_crimes\n",
              "0  1/1/1995  city of london  ...         17.0          NaN\n",
              "1  2/1/1995  city of london  ...          7.0          NaN\n",
              "2  3/1/1995  city of london  ...         14.0          NaN\n",
              "3  4/1/1995  city of london  ...          7.0          NaN\n",
              "4  5/1/1995  city of london  ...         10.0          NaN\n",
              "\n",
              "[5 rows x 6 columns]"
            ]
          },
          "metadata": {
            "tags": []
          },
          "execution_count": 2
        }
      ]
    },
    {
      "cell_type": "markdown",
      "metadata": {
        "id": "TFpDcgyyMVfR"
      },
      "source": [
        "# New Section"
      ]
    },
    {
      "cell_type": "code",
      "metadata": {
        "colab": {
          "base_uri": "https://localhost:8080/"
        },
        "id": "9Hbj8dWAMLUQ",
        "outputId": "aa6ea7c8-2540-4488-a415-4243ee2601ad"
      },
      "source": [
        "house.shape"
      ],
      "execution_count": 3,
      "outputs": [
        {
          "output_type": "execute_result",
          "data": {
            "text/plain": [
              "(13549, 6)"
            ]
          },
          "metadata": {
            "tags": []
          },
          "execution_count": 3
        }
      ]
    },
    {
      "cell_type": "code",
      "metadata": {
        "colab": {
          "base_uri": "https://localhost:8080/"
        },
        "id": "ouZ09vRwMLUR",
        "outputId": "3f586b0e-8c27-41d1-a935-bac22c2c15b8"
      },
      "source": [
        "house.info()"
      ],
      "execution_count": 4,
      "outputs": [
        {
          "output_type": "stream",
          "text": [
            "<class 'pandas.core.frame.DataFrame'>\n",
            "RangeIndex: 13549 entries, 0 to 13548\n",
            "Data columns (total 6 columns):\n",
            " #   Column         Non-Null Count  Dtype  \n",
            "---  ------         --------------  -----  \n",
            " 0   date           13549 non-null  object \n",
            " 1   area           13549 non-null  object \n",
            " 2   average_price  13549 non-null  int64  \n",
            " 3   code           13549 non-null  object \n",
            " 4   houses_sold    13455 non-null  float64\n",
            " 5   no_of_crimes   7439 non-null   float64\n",
            "dtypes: float64(2), int64(1), object(3)\n",
            "memory usage: 635.2+ KB\n"
          ],
          "name": "stdout"
        }
      ]
    },
    {
      "cell_type": "code",
      "metadata": {
        "colab": {
          "base_uri": "https://localhost:8080/"
        },
        "id": "mEOkV1ZdMLUS",
        "outputId": "95683761-ede6-4b6c-c670-4806c3f83369"
      },
      "source": [
        "house.isnull().sum()"
      ],
      "execution_count": 5,
      "outputs": [
        {
          "output_type": "execute_result",
          "data": {
            "text/plain": [
              "date                0\n",
              "area                0\n",
              "average_price       0\n",
              "code                0\n",
              "houses_sold        94\n",
              "no_of_crimes     6110\n",
              "dtype: int64"
            ]
          },
          "metadata": {
            "tags": []
          },
          "execution_count": 5
        }
      ]
    },
    {
      "cell_type": "code",
      "metadata": {
        "id": "fzJomUpUMLUT"
      },
      "source": [
        "import matplotlib.pyplot as plt\n",
        "import seaborn as sns"
      ],
      "execution_count": 6,
      "outputs": []
    },
    {
      "cell_type": "code",
      "metadata": {
        "colab": {
          "base_uri": "https://localhost:8080/",
          "height": 330
        },
        "id": "lVExvyzaMLUT",
        "outputId": "8fe98d34-e98f-4e3e-b40c-b257e1e1f351"
      },
      "source": [
        "sns.heatmap(house.isnull())\n",
        "plt.show()"
      ],
      "execution_count": 7,
      "outputs": [
        {
          "output_type": "display_data",
          "data": {
            "image/png": "[encoded data removed]",
            "text/plain": [
              "<Figure size 432x288 with 2 Axes>"
            ]
          },
          "metadata": {
            "tags": [],
            "needs_background": "light"
          }
        }
      ]
    },
    {
      "cell_type": "code",
      "metadata": {
        "colab": {
          "base_uri": "https://localhost:8080/"
        },
        "id": "kPVrQQNKMLUU",
        "outputId": "d12c9966-5a37-41ec-e9f0-d7a432f81077"
      },
      "source": [
        "# Q 1 convert the data type of 'date' to 'date-time' format\n",
        "house.dtypes"
      ],
      "execution_count": 8,
      "outputs": [
        {
          "output_type": "execute_result",
          "data": {
            "text/plain": [
              "date              object\n",
              "area              object\n",
              "average_price      int64\n",
              "code              object\n",
              "houses_sold      float64\n",
              "no_of_crimes     float64\n",
              "dtype: object"
            ]
          },
          "metadata": {
            "tags": []
          },
          "execution_count": 8
        }
      ]
    },
    {
      "cell_type": "code",
      "metadata": {
        "id": "7jQ8W3POMLUV"
      },
      "source": [
        "house.date=pd.to_datetime(house.date)"
      ],
      "execution_count": 9,
      "outputs": []
    },
    {
      "cell_type": "code",
      "metadata": {
        "colab": {
          "base_uri": "https://localhost:8080/"
        },
        "id": "MJ05EUuJMLUV",
        "outputId": "41c26f8d-6afc-4b37-fefa-40091fea0166"
      },
      "source": [
        "house.dtypes"
      ],
      "execution_count": 10,
      "outputs": [
        {
          "output_type": "execute_result",
          "data": {
            "text/plain": [
              "date             datetime64[ns]\n",
              "area                     object\n",
              "average_price             int64\n",
              "code                     object\n",
              "houses_sold             float64\n",
              "no_of_crimes            float64\n",
              "dtype: object"
            ]
          },
          "metadata": {
            "tags": []
          },
          "execution_count": 10
        }
      ]
    },
    {
      "cell_type": "code",
      "metadata": {
        "colab": {
          "base_uri": "https://localhost:8080/",
          "height": 111
        },
        "id": "g_vv3poFMLUW",
        "outputId": "a6a013e7-7811-4147-c8ec-4040b436450b"
      },
      "source": [
        "# Q 2 Add new column 'Year' contains years only\n",
        "house['year']=house['date'].dt.year\n",
        "house.head(2)"
      ],
      "execution_count": 11,
      "outputs": [
        {
          "output_type": "execute_result",
          "data": {
            "text/html": [
              "<div>\n",
              "<style scoped>\n",
              "    .dataframe tbody tr th:only-of-type {\n",
              "        vertical-align: middle;\n",
              "    }\n",
              "\n",
              "    .dataframe tbody tr th {\n",
              "        vertical-align: top;\n",
              "    }\n",
              "\n",
              "    .dataframe thead th {\n",
              "        text-align: right;\n",
              "    }\n",
              "</style>\n",
              "<table border=\"1\" class=\"dataframe\">\n",
              "  <thead>\n",
              "    <tr style=\"text-align: right;\">\n",
              "      <th></th>\n",
              "      <th>date</th>\n",
              "      <th>area</th>\n",
              "      <th>average_price</th>\n",
              "      <th>code</th>\n",
              "      <th>houses_sold</th>\n",
              "      <th>no_of_crimes</th>\n",
              "      <th>year</th>\n",
              "    </tr>\n",
              "  </thead>\n",
              "  <tbody>\n",
              "    <tr>\n",
              "      <th>0</th>\n",
              "      <td>1995-01-01</td>\n",
              "      <td>city of london</td>\n",
              "      <td>91449</td>\n",
              "      <td>E09000001</td>\n",
              "      <td>17.0</td>\n",
              "      <td>NaN</td>\n",
              "      <td>1995</td>\n",
              "    </tr>\n",
              "    <tr>\n",
              "      <th>1</th>\n",
              "      <td>1995-02-01</td>\n",
              "      <td>city of london</td>\n",
              "      <td>82203</td>\n",
              "      <td>E09000001</td>\n",
              "      <td>7.0</td>\n",
              "      <td>NaN</td>\n",
              "      <td>1995</td>\n",
              "    </tr>\n",
              "  </tbody>\n",
              "</table>\n",
              "</div>"
            ],
            "text/plain": [
              "        date            area  average_price  ... houses_sold  no_of_crimes  year\n",
              "0 1995-01-01  city of london          91449  ...        17.0           NaN  1995\n",
              "1 1995-02-01  city of london          82203  ...         7.0           NaN  1995\n",
              "\n",
              "[2 rows x 7 columns]"
            ]
          },
          "metadata": {
            "tags": []
          },
          "execution_count": 11
        }
      ]
    },
    {
      "cell_type": "code",
      "metadata": {
        "colab": {
          "base_uri": "https://localhost:8080/",
          "height": 111
        },
        "id": "xESfy0lNMLUX",
        "outputId": "a4cb1949-af4b-4172-e644-607b7e8c8a20"
      },
      "source": [
        "# Q 3 Add new column 'month' as 2nd column in dataframe contains month only\n",
        "# syntax -> df.insert(index,new_col_nm, new_col_values)\n",
        "\n",
        "house['month']=house.insert(1, 'month', house.date.dt.month )\n",
        "house.head(2)"
      ],
      "execution_count": 12,
      "outputs": [
        {
          "output_type": "execute_result",
          "data": {
            "text/html": [
              "<div>\n",
              "<style scoped>\n",
              "    .dataframe tbody tr th:only-of-type {\n",
              "        vertical-align: middle;\n",
              "    }\n",
              "\n",
              "    .dataframe tbody tr th {\n",
              "        vertical-align: top;\n",
              "    }\n",
              "\n",
              "    .dataframe thead th {\n",
              "        text-align: right;\n",
              "    }\n",
              "</style>\n",
              "<table border=\"1\" class=\"dataframe\">\n",
              "  <thead>\n",
              "    <tr style=\"text-align: right;\">\n",
              "      <th></th>\n",
              "      <th>date</th>\n",
              "      <th>month</th>\n",
              "      <th>area</th>\n",
              "      <th>average_price</th>\n",
              "      <th>code</th>\n",
              "      <th>houses_sold</th>\n",
              "      <th>no_of_crimes</th>\n",
              "      <th>year</th>\n",
              "    </tr>\n",
              "  </thead>\n",
              "  <tbody>\n",
              "    <tr>\n",
              "      <th>0</th>\n",
              "      <td>1995-01-01</td>\n",
              "      <td>None</td>\n",
              "      <td>city of london</td>\n",
              "      <td>91449</td>\n",
              "      <td>E09000001</td>\n",
              "      <td>17.0</td>\n",
              "      <td>NaN</td>\n",
              "      <td>1995</td>\n",
              "    </tr>\n",
              "    <tr>\n",
              "      <th>1</th>\n",
              "      <td>1995-02-01</td>\n",
              "      <td>None</td>\n",
              "      <td>city of london</td>\n",
              "      <td>82203</td>\n",
              "      <td>E09000001</td>\n",
              "      <td>7.0</td>\n",
              "      <td>NaN</td>\n",
              "      <td>1995</td>\n",
              "    </tr>\n",
              "  </tbody>\n",
              "</table>\n",
              "</div>"
            ],
            "text/plain": [
              "        date month            area  ...  houses_sold no_of_crimes  year\n",
              "0 1995-01-01  None  city of london  ...         17.0          NaN  1995\n",
              "1 1995-02-01  None  city of london  ...          7.0          NaN  1995\n",
              "\n",
              "[2 rows x 8 columns]"
            ]
          },
          "metadata": {
            "tags": []
          },
          "execution_count": 12
        }
      ]
    },
    {
      "cell_type": "code",
      "metadata": {
        "colab": {
          "base_uri": "https://localhost:8080/",
          "height": 111
        },
        "id": "mxY6ZT6KMLUY",
        "outputId": "54a2e496-b8f2-45e8-cf5d-0ebb434f03ba"
      },
      "source": [
        "# Q 4 Remove columns 'month' and 'year' from dataframe\n",
        "house.drop(['year','month'],axis=1,inplace=True)\n",
        "house.head(2)"
      ],
      "execution_count": 13,
      "outputs": [
        {
          "output_type": "execute_result",
          "data": {
            "text/html": [
              "<div>\n",
              "<style scoped>\n",
              "    .dataframe tbody tr th:only-of-type {\n",
              "        vertical-align: middle;\n",
              "    }\n",
              "\n",
              "    .dataframe tbody tr th {\n",
              "        vertical-align: top;\n",
              "    }\n",
              "\n",
              "    .dataframe thead th {\n",
              "        text-align: right;\n",
              "    }\n",
              "</style>\n",
              "<table border=\"1\" class=\"dataframe\">\n",
              "  <thead>\n",
              "    <tr style=\"text-align: right;\">\n",
              "      <th></th>\n",
              "      <th>date</th>\n",
              "      <th>area</th>\n",
              "      <th>average_price</th>\n",
              "      <th>code</th>\n",
              "      <th>houses_sold</th>\n",
              "      <th>no_of_crimes</th>\n",
              "    </tr>\n",
              "  </thead>\n",
              "  <tbody>\n",
              "    <tr>\n",
              "      <th>0</th>\n",
              "      <td>1995-01-01</td>\n",
              "      <td>city of london</td>\n",
              "      <td>91449</td>\n",
              "      <td>E09000001</td>\n",
              "      <td>17.0</td>\n",
              "      <td>NaN</td>\n",
              "    </tr>\n",
              "    <tr>\n",
              "      <th>1</th>\n",
              "      <td>1995-02-01</td>\n",
              "      <td>city of london</td>\n",
              "      <td>82203</td>\n",
              "      <td>E09000001</td>\n",
              "      <td>7.0</td>\n",
              "      <td>NaN</td>\n",
              "    </tr>\n",
              "  </tbody>\n",
              "</table>\n",
              "</div>"
            ],
            "text/plain": [
              "        date            area  ...  houses_sold no_of_crimes\n",
              "0 1995-01-01  city of london  ...         17.0          NaN\n",
              "1 1995-02-01  city of london  ...          7.0          NaN\n",
              "\n",
              "[2 rows x 6 columns]"
            ]
          },
          "metadata": {
            "tags": []
          },
          "execution_count": 13
        }
      ]
    },
    {
      "cell_type": "code",
      "metadata": {
        "colab": {
          "base_uri": "https://localhost:8080/",
          "height": 419
        },
        "id": "9Ezyn9opMLUY",
        "outputId": "dea7f63e-6721-4aa7-ad4a-29846ec8bd05"
      },
      "source": [
        "# Q 5 show all the records where no_of_crimes=0 and how many such records are there\n",
        "house[house['no_of_crimes']==0]"
      ],
      "execution_count": 14,
      "outputs": [
        {
          "output_type": "execute_result",
          "data": {
            "text/html": [
              "<div>\n",
              "<style scoped>\n",
              "    .dataframe tbody tr th:only-of-type {\n",
              "        vertical-align: middle;\n",
              "    }\n",
              "\n",
              "    .dataframe tbody tr th {\n",
              "        vertical-align: top;\n",
              "    }\n",
              "\n",
              "    .dataframe thead th {\n",
              "        text-align: right;\n",
              "    }\n",
              "</style>\n",
              "<table border=\"1\" class=\"dataframe\">\n",
              "  <thead>\n",
              "    <tr style=\"text-align: right;\">\n",
              "      <th></th>\n",
              "      <th>date</th>\n",
              "      <th>area</th>\n",
              "      <th>average_price</th>\n",
              "      <th>code</th>\n",
              "      <th>houses_sold</th>\n",
              "      <th>no_of_crimes</th>\n",
              "    </tr>\n",
              "  </thead>\n",
              "  <tbody>\n",
              "    <tr>\n",
              "      <th>72</th>\n",
              "      <td>2001-01-01</td>\n",
              "      <td>city of london</td>\n",
              "      <td>284262</td>\n",
              "      <td>E09000001</td>\n",
              "      <td>24.0</td>\n",
              "      <td>0.0</td>\n",
              "    </tr>\n",
              "    <tr>\n",
              "      <th>73</th>\n",
              "      <td>2001-02-01</td>\n",
              "      <td>city of london</td>\n",
              "      <td>198137</td>\n",
              "      <td>E09000001</td>\n",
              "      <td>37.0</td>\n",
              "      <td>0.0</td>\n",
              "    </tr>\n",
              "    <tr>\n",
              "      <th>74</th>\n",
              "      <td>2001-03-01</td>\n",
              "      <td>city of london</td>\n",
              "      <td>189033</td>\n",
              "      <td>E09000001</td>\n",
              "      <td>44.0</td>\n",
              "      <td>0.0</td>\n",
              "    </tr>\n",
              "    <tr>\n",
              "      <th>75</th>\n",
              "      <td>2001-04-01</td>\n",
              "      <td>city of london</td>\n",
              "      <td>205494</td>\n",
              "      <td>E09000001</td>\n",
              "      <td>38.0</td>\n",
              "      <td>0.0</td>\n",
              "    </tr>\n",
              "    <tr>\n",
              "      <th>76</th>\n",
              "      <td>2001-05-01</td>\n",
              "      <td>city of london</td>\n",
              "      <td>223459</td>\n",
              "      <td>E09000001</td>\n",
              "      <td>30.0</td>\n",
              "      <td>0.0</td>\n",
              "    </tr>\n",
              "    <tr>\n",
              "      <th>...</th>\n",
              "      <td>...</td>\n",
              "      <td>...</td>\n",
              "      <td>...</td>\n",
              "      <td>...</td>\n",
              "      <td>...</td>\n",
              "      <td>...</td>\n",
              "    </tr>\n",
              "    <tr>\n",
              "      <th>178</th>\n",
              "      <td>2009-11-01</td>\n",
              "      <td>city of london</td>\n",
              "      <td>397909</td>\n",
              "      <td>E09000001</td>\n",
              "      <td>11.0</td>\n",
              "      <td>0.0</td>\n",
              "    </tr>\n",
              "    <tr>\n",
              "      <th>179</th>\n",
              "      <td>2009-12-01</td>\n",
              "      <td>city of london</td>\n",
              "      <td>411955</td>\n",
              "      <td>E09000001</td>\n",
              "      <td>16.0</td>\n",
              "      <td>0.0</td>\n",
              "    </tr>\n",
              "    <tr>\n",
              "      <th>180</th>\n",
              "      <td>2010-01-01</td>\n",
              "      <td>city of london</td>\n",
              "      <td>464436</td>\n",
              "      <td>E09000001</td>\n",
              "      <td>20.0</td>\n",
              "      <td>0.0</td>\n",
              "    </tr>\n",
              "    <tr>\n",
              "      <th>181</th>\n",
              "      <td>2010-02-01</td>\n",
              "      <td>city of london</td>\n",
              "      <td>490525</td>\n",
              "      <td>E09000001</td>\n",
              "      <td>9.0</td>\n",
              "      <td>0.0</td>\n",
              "    </tr>\n",
              "    <tr>\n",
              "      <th>182</th>\n",
              "      <td>2010-03-01</td>\n",
              "      <td>city of london</td>\n",
              "      <td>498241</td>\n",
              "      <td>E09000001</td>\n",
              "      <td>15.0</td>\n",
              "      <td>0.0</td>\n",
              "    </tr>\n",
              "  </tbody>\n",
              "</table>\n",
              "<p>104 rows × 6 columns</p>\n",
              "</div>"
            ],
            "text/plain": [
              "          date            area  ...  houses_sold no_of_crimes\n",
              "72  2001-01-01  city of london  ...         24.0          0.0\n",
              "73  2001-02-01  city of london  ...         37.0          0.0\n",
              "74  2001-03-01  city of london  ...         44.0          0.0\n",
              "75  2001-04-01  city of london  ...         38.0          0.0\n",
              "76  2001-05-01  city of london  ...         30.0          0.0\n",
              "..         ...             ...  ...          ...          ...\n",
              "178 2009-11-01  city of london  ...         11.0          0.0\n",
              "179 2009-12-01  city of london  ...         16.0          0.0\n",
              "180 2010-01-01  city of london  ...         20.0          0.0\n",
              "181 2010-02-01  city of london  ...          9.0          0.0\n",
              "182 2010-03-01  city of london  ...         15.0          0.0\n",
              "\n",
              "[104 rows x 6 columns]"
            ]
          },
          "metadata": {
            "tags": []
          },
          "execution_count": 14
        }
      ]
    },
    {
      "cell_type": "code",
      "metadata": {
        "colab": {
          "base_uri": "https://localhost:8080/"
        },
        "id": "bLH-ZR9EOsy5",
        "outputId": "f7410682-f7de-458a-debf-6ab9a086cd24"
      },
      "source": [
        "len(house[house['no_of_crimes']==0])"
      ],
      "execution_count": 15,
      "outputs": [
        {
          "output_type": "execute_result",
          "data": {
            "text/plain": [
              "104"
            ]
          },
          "metadata": {
            "tags": []
          },
          "execution_count": 15
        }
      ]
    },
    {
      "cell_type": "code",
      "metadata": {
        "colab": {
          "base_uri": "https://localhost:8080/",
          "height": 111
        },
        "id": "rLLamsFUPxsm",
        "outputId": "be20714c-af4b-47fb-8f5f-f83b58b771fd"
      },
      "source": [
        "# Q 6 What is the maximum and minimum 'average_price' per year in England\n",
        "house['year']=house['date'].dt.year\n",
        "house.head(2)"
      ],
      "execution_count": 16,
      "outputs": [
        {
          "output_type": "execute_result",
          "data": {
            "text/html": [
              "<div>\n",
              "<style scoped>\n",
              "    .dataframe tbody tr th:only-of-type {\n",
              "        vertical-align: middle;\n",
              "    }\n",
              "\n",
              "    .dataframe tbody tr th {\n",
              "        vertical-align: top;\n",
              "    }\n",
              "\n",
              "    .dataframe thead th {\n",
              "        text-align: right;\n",
              "    }\n",
              "</style>\n",
              "<table border=\"1\" class=\"dataframe\">\n",
              "  <thead>\n",
              "    <tr style=\"text-align: right;\">\n",
              "      <th></th>\n",
              "      <th>date</th>\n",
              "      <th>area</th>\n",
              "      <th>average_price</th>\n",
              "      <th>code</th>\n",
              "      <th>houses_sold</th>\n",
              "      <th>no_of_crimes</th>\n",
              "      <th>year</th>\n",
              "    </tr>\n",
              "  </thead>\n",
              "  <tbody>\n",
              "    <tr>\n",
              "      <th>0</th>\n",
              "      <td>1995-01-01</td>\n",
              "      <td>city of london</td>\n",
              "      <td>91449</td>\n",
              "      <td>E09000001</td>\n",
              "      <td>17.0</td>\n",
              "      <td>NaN</td>\n",
              "      <td>1995</td>\n",
              "    </tr>\n",
              "    <tr>\n",
              "      <th>1</th>\n",
              "      <td>1995-02-01</td>\n",
              "      <td>city of london</td>\n",
              "      <td>82203</td>\n",
              "      <td>E09000001</td>\n",
              "      <td>7.0</td>\n",
              "      <td>NaN</td>\n",
              "      <td>1995</td>\n",
              "    </tr>\n",
              "  </tbody>\n",
              "</table>\n",
              "</div>"
            ],
            "text/plain": [
              "        date            area  average_price  ... houses_sold  no_of_crimes  year\n",
              "0 1995-01-01  city of london          91449  ...        17.0           NaN  1995\n",
              "1 1995-02-01  city of london          82203  ...         7.0           NaN  1995\n",
              "\n",
              "[2 rows x 7 columns]"
            ]
          },
          "metadata": {
            "tags": []
          },
          "execution_count": 16
        }
      ]
    },
    {
      "cell_type": "code",
      "metadata": {
        "colab": {
          "base_uri": "https://localhost:8080/",
          "height": 419
        },
        "id": "b7T6EY2CQkSS",
        "outputId": "35346169-565a-4f62-f809-888ba98b25d7"
      },
      "source": [
        "house[house['area']=='england']"
      ],
      "execution_count": 17,
      "outputs": [
        {
          "output_type": "execute_result",
          "data": {
            "text/html": [
              "<div>\n",
              "<style scoped>\n",
              "    .dataframe tbody tr th:only-of-type {\n",
              "        vertical-align: middle;\n",
              "    }\n",
              "\n",
              "    .dataframe tbody tr th {\n",
              "        vertical-align: top;\n",
              "    }\n",
              "\n",
              "    .dataframe thead th {\n",
              "        text-align: right;\n",
              "    }\n",
              "</style>\n",
              "<table border=\"1\" class=\"dataframe\">\n",
              "  <thead>\n",
              "    <tr style=\"text-align: right;\">\n",
              "      <th></th>\n",
              "      <th>date</th>\n",
              "      <th>area</th>\n",
              "      <th>average_price</th>\n",
              "      <th>code</th>\n",
              "      <th>houses_sold</th>\n",
              "      <th>no_of_crimes</th>\n",
              "      <th>year</th>\n",
              "    </tr>\n",
              "  </thead>\n",
              "  <tbody>\n",
              "    <tr>\n",
              "      <th>13248</th>\n",
              "      <td>1995-01-01</td>\n",
              "      <td>england</td>\n",
              "      <td>53203</td>\n",
              "      <td>E92000001</td>\n",
              "      <td>47639.0</td>\n",
              "      <td>NaN</td>\n",
              "      <td>1995</td>\n",
              "    </tr>\n",
              "    <tr>\n",
              "      <th>13249</th>\n",
              "      <td>1995-02-01</td>\n",
              "      <td>england</td>\n",
              "      <td>53096</td>\n",
              "      <td>E92000001</td>\n",
              "      <td>47880.0</td>\n",
              "      <td>NaN</td>\n",
              "      <td>1995</td>\n",
              "    </tr>\n",
              "    <tr>\n",
              "      <th>13250</th>\n",
              "      <td>1995-03-01</td>\n",
              "      <td>england</td>\n",
              "      <td>53201</td>\n",
              "      <td>E92000001</td>\n",
              "      <td>67025.0</td>\n",
              "      <td>NaN</td>\n",
              "      <td>1995</td>\n",
              "    </tr>\n",
              "    <tr>\n",
              "      <th>13251</th>\n",
              "      <td>1995-04-01</td>\n",
              "      <td>england</td>\n",
              "      <td>53591</td>\n",
              "      <td>E92000001</td>\n",
              "      <td>56925.0</td>\n",
              "      <td>NaN</td>\n",
              "      <td>1995</td>\n",
              "    </tr>\n",
              "    <tr>\n",
              "      <th>13252</th>\n",
              "      <td>1995-05-01</td>\n",
              "      <td>england</td>\n",
              "      <td>53678</td>\n",
              "      <td>E92000001</td>\n",
              "      <td>64192.0</td>\n",
              "      <td>NaN</td>\n",
              "      <td>1995</td>\n",
              "    </tr>\n",
              "    <tr>\n",
              "      <th>...</th>\n",
              "      <td>...</td>\n",
              "      <td>...</td>\n",
              "      <td>...</td>\n",
              "      <td>...</td>\n",
              "      <td>...</td>\n",
              "      <td>...</td>\n",
              "      <td>...</td>\n",
              "    </tr>\n",
              "    <tr>\n",
              "      <th>13544</th>\n",
              "      <td>2019-09-01</td>\n",
              "      <td>england</td>\n",
              "      <td>249942</td>\n",
              "      <td>E92000001</td>\n",
              "      <td>64605.0</td>\n",
              "      <td>NaN</td>\n",
              "      <td>2019</td>\n",
              "    </tr>\n",
              "    <tr>\n",
              "      <th>13545</th>\n",
              "      <td>2019-10-01</td>\n",
              "      <td>england</td>\n",
              "      <td>249376</td>\n",
              "      <td>E92000001</td>\n",
              "      <td>68677.0</td>\n",
              "      <td>NaN</td>\n",
              "      <td>2019</td>\n",
              "    </tr>\n",
              "    <tr>\n",
              "      <th>13546</th>\n",
              "      <td>2019-11-01</td>\n",
              "      <td>england</td>\n",
              "      <td>248515</td>\n",
              "      <td>E92000001</td>\n",
              "      <td>67814.0</td>\n",
              "      <td>NaN</td>\n",
              "      <td>2019</td>\n",
              "    </tr>\n",
              "    <tr>\n",
              "      <th>13547</th>\n",
              "      <td>2019-12-01</td>\n",
              "      <td>england</td>\n",
              "      <td>250410</td>\n",
              "      <td>E92000001</td>\n",
              "      <td>NaN</td>\n",
              "      <td>NaN</td>\n",
              "      <td>2019</td>\n",
              "    </tr>\n",
              "    <tr>\n",
              "      <th>13548</th>\n",
              "      <td>2020-01-01</td>\n",
              "      <td>england</td>\n",
              "      <td>247355</td>\n",
              "      <td>E92000001</td>\n",
              "      <td>NaN</td>\n",
              "      <td>NaN</td>\n",
              "      <td>2020</td>\n",
              "    </tr>\n",
              "  </tbody>\n",
              "</table>\n",
              "<p>301 rows × 7 columns</p>\n",
              "</div>"
            ],
            "text/plain": [
              "            date     area  average_price  ... houses_sold  no_of_crimes  year\n",
              "13248 1995-01-01  england          53203  ...     47639.0           NaN  1995\n",
              "13249 1995-02-01  england          53096  ...     47880.0           NaN  1995\n",
              "13250 1995-03-01  england          53201  ...     67025.0           NaN  1995\n",
              "13251 1995-04-01  england          53591  ...     56925.0           NaN  1995\n",
              "13252 1995-05-01  england          53678  ...     64192.0           NaN  1995\n",
              "...          ...      ...            ...  ...         ...           ...   ...\n",
              "13544 2019-09-01  england         249942  ...     64605.0           NaN  2019\n",
              "13545 2019-10-01  england         249376  ...     68677.0           NaN  2019\n",
              "13546 2019-11-01  england         248515  ...     67814.0           NaN  2019\n",
              "13547 2019-12-01  england         250410  ...         NaN           NaN  2019\n",
              "13548 2020-01-01  england         247355  ...         NaN           NaN  2020\n",
              "\n",
              "[301 rows x 7 columns]"
            ]
          },
          "metadata": {
            "tags": []
          },
          "execution_count": 17
        }
      ]
    },
    {
      "cell_type": "code",
      "metadata": {
        "colab": {
          "base_uri": "https://localhost:8080/"
        },
        "id": "yoM-VtcAQ7UR",
        "outputId": "38b67c6f-fbd7-42eb-a219-5f798be710a3"
      },
      "source": [
        "house.groupby('year').average_price.max()"
      ],
      "execution_count": 18,
      "outputs": [
        {
          "output_type": "execute_result",
          "data": {
            "text/plain": [
              "year\n",
              "1995     200722\n",
              "1996     223197\n",
              "1997     265112\n",
              "1998     277600\n",
              "1999     354241\n",
              "2000     397353\n",
              "2001     451028\n",
              "2002     497538\n",
              "2003     488704\n",
              "2004     559286\n",
              "2005     555847\n",
              "2006     644541\n",
              "2007     830950\n",
              "2008     832753\n",
              "2009     782459\n",
              "2010     884674\n",
              "2011     959520\n",
              "2012    1077366\n",
              "2013    1217729\n",
              "2014    1365050\n",
              "2015    1353679\n",
              "2016    1357231\n",
              "2017    1412255\n",
              "2018    1463378\n",
              "2019    1294113\n",
              "2020    1178166\n",
              "Name: average_price, dtype: int64"
            ]
          },
          "metadata": {
            "tags": []
          },
          "execution_count": 18
        }
      ]
    },
    {
      "cell_type": "code",
      "metadata": {
        "colab": {
          "base_uri": "https://localhost:8080/"
        },
        "id": "fl-9_IqARsgE",
        "outputId": "a6685fd4-d815-4640-e0e4-d577357924ad"
      },
      "source": [
        "house.groupby('year').average_price.min()"
      ],
      "execution_count": 19,
      "outputs": [
        {
          "output_type": "execute_result",
          "data": {
            "text/plain": [
              "year\n",
              "1995     41688\n",
              "1996     40722\n",
              "1997     42353\n",
              "1998     43510\n",
              "1999     43969\n",
              "2000     47604\n",
              "2001     49045\n",
              "2002     54746\n",
              "2003     67520\n",
              "2004     88520\n",
              "2005    110454\n",
              "2006    121124\n",
              "2007    131175\n",
              "2008    120275\n",
              "2009    117079\n",
              "2010    119688\n",
              "2011    115328\n",
              "2012    113011\n",
              "2013    112008\n",
              "2014    114531\n",
              "2015    117156\n",
              "2016    121085\n",
              "2017    121858\n",
              "2018    124038\n",
              "2019    124567\n",
              "2020    126592\n",
              "Name: average_price, dtype: int64"
            ]
          },
          "metadata": {
            "tags": []
          },
          "execution_count": 19
        }
      ]
    },
    {
      "cell_type": "code",
      "metadata": {
        "colab": {
          "base_uri": "https://localhost:8080/"
        },
        "id": "v4vF6i0kSK2n",
        "outputId": "33f3159a-78c1-4807-8b63-90ed97fcf29e"
      },
      "source": [
        "house.groupby('year').average_price.mean()"
      ],
      "execution_count": 20,
      "outputs": [
        {
          "output_type": "execute_result",
          "data": {
            "text/plain": [
              "year\n",
              "1995     75880.235185\n",
              "1996     78875.274908\n",
              "1997     89618.350000\n",
              "1998    101747.073801\n",
              "1999    114256.172222\n",
              "2000    139979.442593\n",
              "2001    156932.355556\n",
              "2002    182190.731481\n",
              "2003    205099.553704\n",
              "2004    224604.720370\n",
              "2005    233314.512963\n",
              "2006    249303.109259\n",
              "2007    285944.279630\n",
              "2008    287478.972222\n",
              "2009    259296.896296\n",
              "2010    287559.164815\n",
              "2011    294819.138889\n",
              "2012    309409.501852\n",
              "2013    334589.564815\n",
              "2014    388208.392593\n",
              "2015    421356.100000\n",
              "2016    454884.461111\n",
              "2017    469978.938889\n",
              "2018    467240.674074\n",
              "2019    460056.659259\n",
              "2020    463329.977778\n",
              "Name: average_price, dtype: float64"
            ]
          },
          "metadata": {
            "tags": []
          },
          "execution_count": 20
        }
      ]
    },
    {
      "cell_type": "code",
      "metadata": {
        "colab": {
          "base_uri": "https://localhost:8080/"
        },
        "id": "AXFAsx_OSad4",
        "outputId": "e295a6e4-588f-41fa-f1db-1d8ea29ddba0"
      },
      "source": [
        "# Q 7 What is maximum and minimum 'No. of crimes' recorded per area\n",
        "house.groupby('area').no_of_crimes.max()"
      ],
      "execution_count": 21,
      "outputs": [
        {
          "output_type": "execute_result",
          "data": {
            "text/plain": [
              "area\n",
              "barking and dagenham      2049.0\n",
              "barnet                    2893.0\n",
              "bexley                    1914.0\n",
              "brent                     2937.0\n",
              "bromley                   2637.0\n",
              "camden                    4558.0\n",
              "city of london              10.0\n",
              "croydon                   3263.0\n",
              "ealing                    3401.0\n",
              "east midlands                NaN\n",
              "east of england              NaN\n",
              "enfield                   2798.0\n",
              "england                      NaN\n",
              "greenwich                 2853.0\n",
              "hackney                   3466.0\n",
              "hammersmith and fulham    2645.0\n",
              "haringey                  3199.0\n",
              "harrow                    1763.0\n",
              "havering                  1956.0\n",
              "hillingdon                2819.0\n",
              "hounslow                  2817.0\n",
              "inner london                 NaN\n",
              "islington                 3384.0\n",
              "kensington and chelsea    2778.0\n",
              "kingston upon thames      1379.0\n",
              "lambeth                   4701.0\n",
              "lewisham                  2813.0\n",
              "london                       NaN\n",
              "merton                    1623.0\n",
              "newham                    3668.0\n",
              "north east                   NaN\n",
              "north west                   NaN\n",
              "outer london                 NaN\n",
              "redbridge                 2560.0\n",
              "richmond upon thames      1551.0\n",
              "south east                   NaN\n",
              "south west                   NaN\n",
              "southwark                 3821.0\n",
              "sutton                    1425.0\n",
              "tower hamlets             3316.0\n",
              "waltham forest            2941.0\n",
              "wandsworth                3051.0\n",
              "west midlands                NaN\n",
              "westminster               7461.0\n",
              "yorks and the humber         NaN\n",
              "Name: no_of_crimes, dtype: float64"
            ]
          },
          "metadata": {
            "tags": []
          },
          "execution_count": 21
        }
      ]
    },
    {
      "cell_type": "code",
      "metadata": {
        "colab": {
          "base_uri": "https://localhost:8080/"
        },
        "id": "0xrD5YsrTIeo",
        "outputId": "c28e0629-0e79-41db-d649-7a9d32cbb5b7"
      },
      "source": [
        "house.groupby('area').no_of_crimes.min()"
      ],
      "execution_count": 22,
      "outputs": [
        {
          "output_type": "execute_result",
          "data": {
            "text/plain": [
              "area\n",
              "barking and dagenham      1217.0\n",
              "barnet                    1703.0\n",
              "bexley                     860.0\n",
              "brent                     1850.0\n",
              "bromley                   1441.0\n",
              "camden                    2079.0\n",
              "city of london               0.0\n",
              "croydon                   2031.0\n",
              "ealing                    1871.0\n",
              "east midlands                NaN\n",
              "east of england              NaN\n",
              "enfield                   1635.0\n",
              "england                      NaN\n",
              "greenwich                 1513.0\n",
              "hackney                   1870.0\n",
              "hammersmith and fulham    1323.0\n",
              "haringey                  1536.0\n",
              "harrow                     937.0\n",
              "havering                  1130.0\n",
              "hillingdon                1445.0\n",
              "hounslow                  1529.0\n",
              "inner london                 NaN\n",
              "islington                 1871.0\n",
              "kensington and chelsea    1347.0\n",
              "kingston upon thames       692.0\n",
              "lambeth                   2381.0\n",
              "lewisham                  1675.0\n",
              "london                       NaN\n",
              "merton                     819.0\n",
              "newham                    2130.0\n",
              "north east                   NaN\n",
              "north west                   NaN\n",
              "outer london                 NaN\n",
              "redbridge                 1487.0\n",
              "richmond upon thames       700.0\n",
              "south east                   NaN\n",
              "south west                   NaN\n",
              "southwark                 2267.0\n",
              "sutton                     787.0\n",
              "tower hamlets             1646.0\n",
              "waltham forest            1575.0\n",
              "wandsworth                1582.0\n",
              "west midlands                NaN\n",
              "westminster               3504.0\n",
              "yorks and the humber         NaN\n",
              "Name: no_of_crimes, dtype: float64"
            ]
          },
          "metadata": {
            "tags": []
          },
          "execution_count": 22
        }
      ]
    },
    {
      "cell_type": "code",
      "metadata": {
        "colab": {
          "base_uri": "https://localhost:8080/"
        },
        "id": "AXQDobebTTYM",
        "outputId": "9930d9c7-b61a-4823-cd6b-0f4580b420c4"
      },
      "source": [
        "house.groupby('area').no_of_crimes.min().sort_values(ascending=False)"
      ],
      "execution_count": 23,
      "outputs": [
        {
          "output_type": "execute_result",
          "data": {
            "text/plain": [
              "area\n",
              "westminster               3504.0\n",
              "lambeth                   2381.0\n",
              "southwark                 2267.0\n",
              "newham                    2130.0\n",
              "camden                    2079.0\n",
              "croydon                   2031.0\n",
              "islington                 1871.0\n",
              "ealing                    1871.0\n",
              "hackney                   1870.0\n",
              "brent                     1850.0\n",
              "barnet                    1703.0\n",
              "lewisham                  1675.0\n",
              "tower hamlets             1646.0\n",
              "enfield                   1635.0\n",
              "wandsworth                1582.0\n",
              "waltham forest            1575.0\n",
              "haringey                  1536.0\n",
              "hounslow                  1529.0\n",
              "greenwich                 1513.0\n",
              "redbridge                 1487.0\n",
              "hillingdon                1445.0\n",
              "bromley                   1441.0\n",
              "kensington and chelsea    1347.0\n",
              "hammersmith and fulham    1323.0\n",
              "barking and dagenham      1217.0\n",
              "havering                  1130.0\n",
              "harrow                     937.0\n",
              "bexley                     860.0\n",
              "merton                     819.0\n",
              "sutton                     787.0\n",
              "richmond upon thames       700.0\n",
              "kingston upon thames       692.0\n",
              "city of london               0.0\n",
              "east midlands                NaN\n",
              "east of england              NaN\n",
              "england                      NaN\n",
              "inner london                 NaN\n",
              "london                       NaN\n",
              "north east                   NaN\n",
              "north west                   NaN\n",
              "outer london                 NaN\n",
              "south east                   NaN\n",
              "south west                   NaN\n",
              "west midlands                NaN\n",
              "yorks and the humber         NaN\n",
              "Name: no_of_crimes, dtype: float64"
            ]
          },
          "metadata": {
            "tags": []
          },
          "execution_count": 23
        }
      ]
    },
    {
      "cell_type": "code",
      "metadata": {
        "colab": {
          "base_uri": "https://localhost:8080/"
        },
        "id": "SYP94k0DT0qM",
        "outputId": "b2da9239-d350-4efb-84fd-9098faed3638"
      },
      "source": [
        "# Q 8 show all the records of each area where average_price is less than 100000\n",
        "house[house['average_price']<100000].area.value_counts()"
      ],
      "execution_count": 24,
      "outputs": [
        {
          "output_type": "execute_result",
          "data": {
            "text/plain": [
              "north east              112\n",
              "north west              111\n",
              "yorks and the humber    110\n",
              "east midlands            96\n",
              "west midlands            94\n",
              "england                  87\n",
              "barking and dagenham     85\n",
              "south west               78\n",
              "east of england          76\n",
              "newham                   72\n",
              "bexley                   64\n",
              "waltham forest           64\n",
              "lewisham                 62\n",
              "havering                 60\n",
              "south east               59\n",
              "greenwich                59\n",
              "croydon                  57\n",
              "sutton                   54\n",
              "enfield                  54\n",
              "hackney                  53\n",
              "redbridge                52\n",
              "southwark                48\n",
              "tower hamlets            47\n",
              "outer london             46\n",
              "hillingdon               44\n",
              "lambeth                  41\n",
              "hounslow                 41\n",
              "brent                    40\n",
              "london                   39\n",
              "merton                   35\n",
              "haringey                 33\n",
              "bromley                  33\n",
              "inner london             31\n",
              "ealing                   31\n",
              "kingston upon thames     30\n",
              "harrow                   30\n",
              "wandsworth               26\n",
              "barnet                   25\n",
              "islington                19\n",
              "city of london           11\n",
              "Name: area, dtype: int64"
            ]
          },
          "metadata": {
            "tags": []
          },
          "execution_count": 24
        }
      ]
    },
    {
      "cell_type": "code",
      "metadata": {
        "id": "CLfJB7-HVHXY"
      },
      "source": [
        ""
      ],
      "execution_count": 24,
      "outputs": []
    }
  ]
}