{
  "nbformat": 4,
  "nbformat_minor": 0,
  "metadata": {
    "kernelspec": {
      "display_name": "Python 3",
      "language": "python",
      "name": "python3"
    },
    "language_info": {
      "codemirror_mode": {
        "name": "ipython",
        "version": 3
      },
      "file_extension": ".py",
      "mimetype": "text/x-python",
      "name": "python",
      "nbconvert_exporter": "python",
      "pygments_lexer": "ipython3",
      "version": "3.7.4"
    },
    "colab": {
      "name": "Netflix_movie_Recommendation.ipynb",
      "provenance": [],
      "collapsed_sections": [],
      "toc_visible": true,
      "include_colab_link": true
    }
  },
  "cells": [
    {
      "cell_type": "markdown",
      "metadata": {
        "id": "view-in-github",
        "colab_type": "text"
      },
      "source": [
        "<a href=\"https://colab.research.google.com/github/sandip924/Data_science_projects/blob/main/Netflix_movie_Recommendation.ipynb\" target=\"_parent\"><img src=\"https://colab.research.google.com/assets/colab-badge.svg\" alt=\"Open In Colab\"/></a>"
      ]
    },
    {
      "cell_type": "code",
      "metadata": {
        "id": "X7GLmyobf-A1"
      },
      "source": [
        "import pandas as pd\n",
        "import matplotlib.pyplot as plt\n",
        "%matplotlib inline"
      ],
      "execution_count": 2,
      "outputs": []
    },
    {
      "cell_type": "code",
      "metadata": {
        "colab": {
          "base_uri": "https://localhost:8080/",
          "height": 204
        },
        "id": "YOTs1xnlf-BO",
        "outputId": "6d2fef31-75be-40a8-fc0f-3ef5c714e4e8"
      },
      "source": [
        "ratings=pd.read_csv(\"ratings.csv\")\n",
        "ratings.head()"
      ],
      "execution_count": 5,
      "outputs": [
        {
          "output_type": "execute_result",
          "data": {
            "text/html": [
              "<div>\n",
              "<style scoped>\n",
              "    .dataframe tbody tr th:only-of-type {\n",
              "        vertical-align: middle;\n",
              "    }\n",
              "\n",
              "    .dataframe tbody tr th {\n",
              "        vertical-align: top;\n",
              "    }\n",
              "\n",
              "    .dataframe thead th {\n",
              "        text-align: right;\n",
              "    }\n",
              "</style>\n",
              "<table border=\"1\" class=\"dataframe\">\n",
              "  <thead>\n",
              "    <tr style=\"text-align: right;\">\n",
              "      <th></th>\n",
              "      <th>userId</th>\n",
              "      <th>movieId</th>\n",
              "      <th>rating</th>\n",
              "      <th>timestamp</th>\n",
              "    </tr>\n",
              "  </thead>\n",
              "  <tbody>\n",
              "    <tr>\n",
              "      <th>0</th>\n",
              "      <td>1</td>\n",
              "      <td>2</td>\n",
              "      <td>3.5</td>\n",
              "      <td>1112486027</td>\n",
              "    </tr>\n",
              "    <tr>\n",
              "      <th>1</th>\n",
              "      <td>1</td>\n",
              "      <td>29</td>\n",
              "      <td>3.5</td>\n",
              "      <td>1112484676</td>\n",
              "    </tr>\n",
              "    <tr>\n",
              "      <th>2</th>\n",
              "      <td>1</td>\n",
              "      <td>32</td>\n",
              "      <td>3.5</td>\n",
              "      <td>1112484819</td>\n",
              "    </tr>\n",
              "    <tr>\n",
              "      <th>3</th>\n",
              "      <td>1</td>\n",
              "      <td>47</td>\n",
              "      <td>3.5</td>\n",
              "      <td>1112484727</td>\n",
              "    </tr>\n",
              "    <tr>\n",
              "      <th>4</th>\n",
              "      <td>1</td>\n",
              "      <td>50</td>\n",
              "      <td>3.5</td>\n",
              "      <td>1112484580</td>\n",
              "    </tr>\n",
              "  </tbody>\n",
              "</table>\n",
              "</div>"
            ],
            "text/plain": [
              "   userId  movieId  rating   timestamp\n",
              "0       1        2     3.5  1112486027\n",
              "1       1       29     3.5  1112484676\n",
              "2       1       32     3.5  1112484819\n",
              "3       1       47     3.5  1112484727\n",
              "4       1       50     3.5  1112484580"
            ]
          },
          "metadata": {
            "tags": []
          },
          "execution_count": 5
        }
      ]
    },
    {
      "cell_type": "code",
      "metadata": {
        "colab": {
          "base_uri": "https://localhost:8080/",
          "height": 204
        },
        "id": "pYMzkBhef-BR",
        "outputId": "1671ae6a-576d-49ef-d4bf-71f7afaf8dc3"
      },
      "source": [
        "movie = pd.read_csv('movies.csv')\n",
        "movie.head()"
      ],
      "execution_count": 6,
      "outputs": [
        {
          "output_type": "execute_result",
          "data": {
            "text/html": [
              "<div>\n",
              "<style scoped>\n",
              "    .dataframe tbody tr th:only-of-type {\n",
              "        vertical-align: middle;\n",
              "    }\n",
              "\n",
              "    .dataframe tbody tr th {\n",
              "        vertical-align: top;\n",
              "    }\n",
              "\n",
              "    .dataframe thead th {\n",
              "        text-align: right;\n",
              "    }\n",
              "</style>\n",
              "<table border=\"1\" class=\"dataframe\">\n",
              "  <thead>\n",
              "    <tr style=\"text-align: right;\">\n",
              "      <th></th>\n",
              "      <th>movieId</th>\n",
              "      <th>title</th>\n",
              "      <th>genres</th>\n",
              "    </tr>\n",
              "  </thead>\n",
              "  <tbody>\n",
              "    <tr>\n",
              "      <th>0</th>\n",
              "      <td>1</td>\n",
              "      <td>Toy Story (1995)</td>\n",
              "      <td>Adventure|Animation|Children|Comedy|Fantasy</td>\n",
              "    </tr>\n",
              "    <tr>\n",
              "      <th>1</th>\n",
              "      <td>2</td>\n",
              "      <td>Jumanji (1995)</td>\n",
              "      <td>Adventure|Children|Fantasy</td>\n",
              "    </tr>\n",
              "    <tr>\n",
              "      <th>2</th>\n",
              "      <td>3</td>\n",
              "      <td>Grumpier Old Men (1995)</td>\n",
              "      <td>Comedy|Romance</td>\n",
              "    </tr>\n",
              "    <tr>\n",
              "      <th>3</th>\n",
              "      <td>4</td>\n",
              "      <td>Waiting to Exhale (1995)</td>\n",
              "      <td>Comedy|Drama|Romance</td>\n",
              "    </tr>\n",
              "    <tr>\n",
              "      <th>4</th>\n",
              "      <td>5</td>\n",
              "      <td>Father of the Bride Part II (1995)</td>\n",
              "      <td>Comedy</td>\n",
              "    </tr>\n",
              "  </tbody>\n",
              "</table>\n",
              "</div>"
            ],
            "text/plain": [
              "   movieId  ...                                       genres\n",
              "0        1  ...  Adventure|Animation|Children|Comedy|Fantasy\n",
              "1        2  ...                   Adventure|Children|Fantasy\n",
              "2        3  ...                               Comedy|Romance\n",
              "3        4  ...                         Comedy|Drama|Romance\n",
              "4        5  ...                                       Comedy\n",
              "\n",
              "[5 rows x 3 columns]"
            ]
          },
          "metadata": {
            "tags": []
          },
          "execution_count": 6
        }
      ]
    },
    {
      "cell_type": "code",
      "metadata": {
        "colab": {
          "base_uri": "https://localhost:8080/"
        },
        "id": "TdII33ftf-BT",
        "outputId": "664e6139-bc70-4be1-e809-abc5faa9e142"
      },
      "source": [
        "ratings.shape"
      ],
      "execution_count": 7,
      "outputs": [
        {
          "output_type": "execute_result",
          "data": {
            "text/plain": [
              "(920159, 4)"
            ]
          },
          "metadata": {
            "tags": []
          },
          "execution_count": 7
        }
      ]
    },
    {
      "cell_type": "code",
      "metadata": {
        "colab": {
          "base_uri": "https://localhost:8080/"
        },
        "id": "1aDOxnmXf-BV",
        "outputId": "82b75ad2-7a20-4902-ca33-d79e050144e7"
      },
      "source": [
        "movie.shape"
      ],
      "execution_count": 8,
      "outputs": [
        {
          "output_type": "execute_result",
          "data": {
            "text/plain": [
              "(27278, 3)"
            ]
          },
          "metadata": {
            "tags": []
          },
          "execution_count": 8
        }
      ]
    },
    {
      "cell_type": "code",
      "metadata": {
        "colab": {
          "base_uri": "https://localhost:8080/",
          "height": 204
        },
        "id": "TuNdYTo_f-BW",
        "outputId": "bdf24c44-fa33-48a6-a9ce-664490df5446"
      },
      "source": [
        "dataset=pd.merge(ratings,movie,on='movieId')\n",
        "dataset.tail()"
      ],
      "execution_count": 9,
      "outputs": [
        {
          "output_type": "execute_result",
          "data": {
            "text/html": [
              "<div>\n",
              "<style scoped>\n",
              "    .dataframe tbody tr th:only-of-type {\n",
              "        vertical-align: middle;\n",
              "    }\n",
              "\n",
              "    .dataframe tbody tr th {\n",
              "        vertical-align: top;\n",
              "    }\n",
              "\n",
              "    .dataframe thead th {\n",
              "        text-align: right;\n",
              "    }\n",
              "</style>\n",
              "<table border=\"1\" class=\"dataframe\">\n",
              "  <thead>\n",
              "    <tr style=\"text-align: right;\">\n",
              "      <th></th>\n",
              "      <th>userId</th>\n",
              "      <th>movieId</th>\n",
              "      <th>rating</th>\n",
              "      <th>timestamp</th>\n",
              "      <th>title</th>\n",
              "      <th>genres</th>\n",
              "    </tr>\n",
              "  </thead>\n",
              "  <tbody>\n",
              "    <tr>\n",
              "      <th>920154</th>\n",
              "      <td>6111</td>\n",
              "      <td>45837</td>\n",
              "      <td>3.5</td>\n",
              "      <td>1305343290</td>\n",
              "      <td>Let It Be (1970)</td>\n",
              "      <td>Documentary</td>\n",
              "    </tr>\n",
              "    <tr>\n",
              "      <th>920155</th>\n",
              "      <td>6111</td>\n",
              "      <td>78737</td>\n",
              "      <td>3.0</td>\n",
              "      <td>1281403111</td>\n",
              "      <td>Captain from Castile (1947)</td>\n",
              "      <td>Adventure|Drama</td>\n",
              "    </tr>\n",
              "    <tr>\n",
              "      <th>920156</th>\n",
              "      <td>6112</td>\n",
              "      <td>6623</td>\n",
              "      <td>2.5</td>\n",
              "      <td>1095899483</td>\n",
              "      <td>Passionada (2002)</td>\n",
              "      <td>Comedy|Romance</td>\n",
              "    </tr>\n",
              "    <tr>\n",
              "      <th>920157</th>\n",
              "      <td>6112</td>\n",
              "      <td>47148</td>\n",
              "      <td>4.5</td>\n",
              "      <td>1257221301</td>\n",
              "      <td>Mrs. Palfrey at the Claremont (2005)</td>\n",
              "      <td>Comedy|Drama</td>\n",
              "    </tr>\n",
              "    <tr>\n",
              "      <th>920158</th>\n",
              "      <td>6125</td>\n",
              "      <td>27867</td>\n",
              "      <td>5.0</td>\n",
              "      <td>1351945100</td>\n",
              "      <td>Football Factory, The (2004)</td>\n",
              "      <td>Action|Drama</td>\n",
              "    </tr>\n",
              "  </tbody>\n",
              "</table>\n",
              "</div>"
            ],
            "text/plain": [
              "        userId  movieId  ...                                 title           genres\n",
              "920154    6111    45837  ...                      Let It Be (1970)      Documentary\n",
              "920155    6111    78737  ...           Captain from Castile (1947)  Adventure|Drama\n",
              "920156    6112     6623  ...                     Passionada (2002)   Comedy|Romance\n",
              "920157    6112    47148  ...  Mrs. Palfrey at the Claremont (2005)     Comedy|Drama\n",
              "920158    6125    27867  ...          Football Factory, The (2004)     Action|Drama\n",
              "\n",
              "[5 rows x 6 columns]"
            ]
          },
          "metadata": {
            "tags": []
          },
          "execution_count": 9
        }
      ]
    },
    {
      "cell_type": "code",
      "metadata": {
        "colab": {
          "base_uri": "https://localhost:8080/",
          "height": 297
        },
        "id": "-aCWjadef-BY",
        "outputId": "2c08ed94-573b-4f8f-8cc1-5b60ebeb4700"
      },
      "source": [
        "dataset.describe()"
      ],
      "execution_count": 10,
      "outputs": [
        {
          "output_type": "execute_result",
          "data": {
            "text/html": [
              "<div>\n",
              "<style scoped>\n",
              "    .dataframe tbody tr th:only-of-type {\n",
              "        vertical-align: middle;\n",
              "    }\n",
              "\n",
              "    .dataframe tbody tr th {\n",
              "        vertical-align: top;\n",
              "    }\n",
              "\n",
              "    .dataframe thead th {\n",
              "        text-align: right;\n",
              "    }\n",
              "</style>\n",
              "<table border=\"1\" class=\"dataframe\">\n",
              "  <thead>\n",
              "    <tr style=\"text-align: right;\">\n",
              "      <th></th>\n",
              "      <th>userId</th>\n",
              "      <th>movieId</th>\n",
              "      <th>rating</th>\n",
              "      <th>timestamp</th>\n",
              "    </tr>\n",
              "  </thead>\n",
              "  <tbody>\n",
              "    <tr>\n",
              "      <th>count</th>\n",
              "      <td>920159.000000</td>\n",
              "      <td>920159.000000</td>\n",
              "      <td>920159.000000</td>\n",
              "      <td>9.201590e+05</td>\n",
              "    </tr>\n",
              "    <tr>\n",
              "      <th>mean</th>\n",
              "      <td>3093.529921</td>\n",
              "      <td>8711.900556</td>\n",
              "      <td>3.526055</td>\n",
              "      <td>1.096935e+09</td>\n",
              "    </tr>\n",
              "    <tr>\n",
              "      <th>std</th>\n",
              "      <td>1759.739737</td>\n",
              "      <td>19184.556522</td>\n",
              "      <td>1.050962</td>\n",
              "      <td>1.599436e+08</td>\n",
              "    </tr>\n",
              "    <tr>\n",
              "      <th>min</th>\n",
              "      <td>1.000000</td>\n",
              "      <td>1.000000</td>\n",
              "      <td>0.500000</td>\n",
              "      <td>9.396850e+05</td>\n",
              "    </tr>\n",
              "    <tr>\n",
              "      <th>25%</th>\n",
              "      <td>1588.000000</td>\n",
              "      <td>903.000000</td>\n",
              "      <td>3.000000</td>\n",
              "      <td>9.657406e+08</td>\n",
              "    </tr>\n",
              "    <tr>\n",
              "      <th>50%</th>\n",
              "      <td>3149.000000</td>\n",
              "      <td>2145.000000</td>\n",
              "      <td>4.000000</td>\n",
              "      <td>1.099354e+09</td>\n",
              "    </tr>\n",
              "    <tr>\n",
              "      <th>75%</th>\n",
              "      <td>4577.000000</td>\n",
              "      <td>4649.000000</td>\n",
              "      <td>4.000000</td>\n",
              "      <td>1.219806e+09</td>\n",
              "    </tr>\n",
              "    <tr>\n",
              "      <th>max</th>\n",
              "      <td>6145.000000</td>\n",
              "      <td>130642.000000</td>\n",
              "      <td>5.000000</td>\n",
              "      <td>1.427764e+09</td>\n",
              "    </tr>\n",
              "  </tbody>\n",
              "</table>\n",
              "</div>"
            ],
            "text/plain": [
              "              userId        movieId         rating     timestamp\n",
              "count  920159.000000  920159.000000  920159.000000  9.201590e+05\n",
              "mean     3093.529921    8711.900556       3.526055  1.096935e+09\n",
              "std      1759.739737   19184.556522       1.050962  1.599436e+08\n",
              "min         1.000000       1.000000       0.500000  9.396850e+05\n",
              "25%      1588.000000     903.000000       3.000000  9.657406e+08\n",
              "50%      3149.000000    2145.000000       4.000000  1.099354e+09\n",
              "75%      4577.000000    4649.000000       4.000000  1.219806e+09\n",
              "max      6145.000000  130642.000000       5.000000  1.427764e+09"
            ]
          },
          "metadata": {
            "tags": []
          },
          "execution_count": 10
        }
      ]
    },
    {
      "cell_type": "code",
      "metadata": {
        "colab": {
          "base_uri": "https://localhost:8080/",
          "height": 297
        },
        "id": "wo3VOG4rf-Ba",
        "outputId": "d8944399-c377-4c08-a636-90c3ca716c74"
      },
      "source": [
        "movie.describe()"
      ],
      "execution_count": 11,
      "outputs": [
        {
          "output_type": "execute_result",
          "data": {
            "text/html": [
              "<div>\n",
              "<style scoped>\n",
              "    .dataframe tbody tr th:only-of-type {\n",
              "        vertical-align: middle;\n",
              "    }\n",
              "\n",
              "    .dataframe tbody tr th {\n",
              "        vertical-align: top;\n",
              "    }\n",
              "\n",
              "    .dataframe thead th {\n",
              "        text-align: right;\n",
              "    }\n",
              "</style>\n",
              "<table border=\"1\" class=\"dataframe\">\n",
              "  <thead>\n",
              "    <tr style=\"text-align: right;\">\n",
              "      <th></th>\n",
              "      <th>movieId</th>\n",
              "    </tr>\n",
              "  </thead>\n",
              "  <tbody>\n",
              "    <tr>\n",
              "      <th>count</th>\n",
              "      <td>27278.000000</td>\n",
              "    </tr>\n",
              "    <tr>\n",
              "      <th>mean</th>\n",
              "      <td>59855.480570</td>\n",
              "    </tr>\n",
              "    <tr>\n",
              "      <th>std</th>\n",
              "      <td>44429.314697</td>\n",
              "    </tr>\n",
              "    <tr>\n",
              "      <th>min</th>\n",
              "      <td>1.000000</td>\n",
              "    </tr>\n",
              "    <tr>\n",
              "      <th>25%</th>\n",
              "      <td>6931.250000</td>\n",
              "    </tr>\n",
              "    <tr>\n",
              "      <th>50%</th>\n",
              "      <td>68068.000000</td>\n",
              "    </tr>\n",
              "    <tr>\n",
              "      <th>75%</th>\n",
              "      <td>100293.250000</td>\n",
              "    </tr>\n",
              "    <tr>\n",
              "      <th>max</th>\n",
              "      <td>131262.000000</td>\n",
              "    </tr>\n",
              "  </tbody>\n",
              "</table>\n",
              "</div>"
            ],
            "text/plain": [
              "             movieId\n",
              "count   27278.000000\n",
              "mean    59855.480570\n",
              "std     44429.314697\n",
              "min         1.000000\n",
              "25%      6931.250000\n",
              "50%     68068.000000\n",
              "75%    100293.250000\n",
              "max    131262.000000"
            ]
          },
          "metadata": {
            "tags": []
          },
          "execution_count": 11
        }
      ]
    },
    {
      "cell_type": "code",
      "metadata": {
        "id": "CZz5fJ-Af-Bb"
      },
      "source": [
        "import datetime\n",
        "from datetime import datetime,date\n",
        "dataset['datetime']=pd.to_datetime(dataset['timestamp'])"
      ],
      "execution_count": 13,
      "outputs": []
    },
    {
      "cell_type": "code",
      "metadata": {
        "colab": {
          "base_uri": "https://localhost:8080/"
        },
        "id": "_6Adf5f5f-Bc",
        "outputId": "84178fe0-ba9c-4df3-966f-dc24a868573d"
      },
      "source": [
        "dataset.shape"
      ],
      "execution_count": 14,
      "outputs": [
        {
          "output_type": "execute_result",
          "data": {
            "text/plain": [
              "(920159, 7)"
            ]
          },
          "metadata": {
            "tags": []
          },
          "execution_count": 14
        }
      ]
    },
    {
      "cell_type": "code",
      "metadata": {
        "colab": {
          "base_uri": "https://localhost:8080/"
        },
        "id": "gAm2-iJOf-Be",
        "outputId": "5514ccbe-c3cd-426c-cec4-9775d0b961e1"
      },
      "source": [
        "dataset.nunique()"
      ],
      "execution_count": 15,
      "outputs": [
        {
          "output_type": "execute_result",
          "data": {
            "text/plain": [
              "userId         6145\n",
              "movieId       13804\n",
              "rating           10\n",
              "timestamp    722595\n",
              "title         13799\n",
              "genres         1053\n",
              "datetime     722595\n",
              "dtype: int64"
            ]
          },
          "metadata": {
            "tags": []
          },
          "execution_count": 15
        }
      ]
    },
    {
      "cell_type": "code",
      "metadata": {
        "colab": {
          "base_uri": "https://localhost:8080/",
          "height": 297
        },
        "id": "rPKcxt2Xf-Bf",
        "outputId": "30626424-9cc2-41b1-cc77-fac8707e41f9"
      },
      "source": [
        "dataset.describe()"
      ],
      "execution_count": 16,
      "outputs": [
        {
          "output_type": "execute_result",
          "data": {
            "text/html": [
              "<div>\n",
              "<style scoped>\n",
              "    .dataframe tbody tr th:only-of-type {\n",
              "        vertical-align: middle;\n",
              "    }\n",
              "\n",
              "    .dataframe tbody tr th {\n",
              "        vertical-align: top;\n",
              "    }\n",
              "\n",
              "    .dataframe thead th {\n",
              "        text-align: right;\n",
              "    }\n",
              "</style>\n",
              "<table border=\"1\" class=\"dataframe\">\n",
              "  <thead>\n",
              "    <tr style=\"text-align: right;\">\n",
              "      <th></th>\n",
              "      <th>userId</th>\n",
              "      <th>movieId</th>\n",
              "      <th>rating</th>\n",
              "      <th>timestamp</th>\n",
              "    </tr>\n",
              "  </thead>\n",
              "  <tbody>\n",
              "    <tr>\n",
              "      <th>count</th>\n",
              "      <td>920159.000000</td>\n",
              "      <td>920159.000000</td>\n",
              "      <td>920159.000000</td>\n",
              "      <td>9.201590e+05</td>\n",
              "    </tr>\n",
              "    <tr>\n",
              "      <th>mean</th>\n",
              "      <td>3093.529921</td>\n",
              "      <td>8711.900556</td>\n",
              "      <td>3.526055</td>\n",
              "      <td>1.096935e+09</td>\n",
              "    </tr>\n",
              "    <tr>\n",
              "      <th>std</th>\n",
              "      <td>1759.739737</td>\n",
              "      <td>19184.556522</td>\n",
              "      <td>1.050962</td>\n",
              "      <td>1.599436e+08</td>\n",
              "    </tr>\n",
              "    <tr>\n",
              "      <th>min</th>\n",
              "      <td>1.000000</td>\n",
              "      <td>1.000000</td>\n",
              "      <td>0.500000</td>\n",
              "      <td>9.396850e+05</td>\n",
              "    </tr>\n",
              "    <tr>\n",
              "      <th>25%</th>\n",
              "      <td>1588.000000</td>\n",
              "      <td>903.000000</td>\n",
              "      <td>3.000000</td>\n",
              "      <td>9.657406e+08</td>\n",
              "    </tr>\n",
              "    <tr>\n",
              "      <th>50%</th>\n",
              "      <td>3149.000000</td>\n",
              "      <td>2145.000000</td>\n",
              "      <td>4.000000</td>\n",
              "      <td>1.099354e+09</td>\n",
              "    </tr>\n",
              "    <tr>\n",
              "      <th>75%</th>\n",
              "      <td>4577.000000</td>\n",
              "      <td>4649.000000</td>\n",
              "      <td>4.000000</td>\n",
              "      <td>1.219806e+09</td>\n",
              "    </tr>\n",
              "    <tr>\n",
              "      <th>max</th>\n",
              "      <td>6145.000000</td>\n",
              "      <td>130642.000000</td>\n",
              "      <td>5.000000</td>\n",
              "      <td>1.427764e+09</td>\n",
              "    </tr>\n",
              "  </tbody>\n",
              "</table>\n",
              "</div>"
            ],
            "text/plain": [
              "              userId        movieId         rating     timestamp\n",
              "count  920159.000000  920159.000000  920159.000000  9.201590e+05\n",
              "mean     3093.529921    8711.900556       3.526055  1.096935e+09\n",
              "std      1759.739737   19184.556522       1.050962  1.599436e+08\n",
              "min         1.000000       1.000000       0.500000  9.396850e+05\n",
              "25%      1588.000000     903.000000       3.000000  9.657406e+08\n",
              "50%      3149.000000    2145.000000       4.000000  1.099354e+09\n",
              "75%      4577.000000    4649.000000       4.000000  1.219806e+09\n",
              "max      6145.000000  130642.000000       5.000000  1.427764e+09"
            ]
          },
          "metadata": {
            "tags": []
          },
          "execution_count": 16
        }
      ]
    },
    {
      "cell_type": "code",
      "metadata": {
        "colab": {
          "base_uri": "https://localhost:8080/"
        },
        "id": "m-4M4n18f-Bg",
        "outputId": "9d950c75-aa18-4453-a771-7de1d6fdd000"
      },
      "source": [
        "# Average Ratings\n",
        "a=dataset\n",
        "a=a.groupby('title')['rating'].mean()\n",
        "a"
      ],
      "execution_count": 17,
      "outputs": [
        {
          "output_type": "execute_result",
          "data": {
            "text/plain": [
              "title\n",
              "\"Great Performances\" Cats (1998)             2.875000\n",
              "$5 a Day (2008)                              3.300000\n",
              "'71 (2014)                                   3.000000\n",
              "'Hellboy': The Seeds of Creation (2004)      3.125000\n",
              "'Neath the Arizona Skies (1934)              3.500000\n",
              "                                               ...   \n",
              "xXx (2002)                                   2.970297\n",
              "xXx: State of the Union (2005)               2.482143\n",
              "¡Three Amigos! (1986)                        3.145105\n",
              "À nos amours (1983)                          2.000000\n",
              "À nous la liberté (Freedom for Us) (1931)    3.600000\n",
              "Name: rating, Length: 13799, dtype: float64"
            ]
          },
          "metadata": {
            "tags": []
          },
          "execution_count": 17
        }
      ]
    },
    {
      "cell_type": "code",
      "metadata": {
        "colab": {
          "base_uri": "https://localhost:8080/"
        },
        "id": "k4SxQ8Udf-Bi",
        "outputId": "62839f90-ae54-443d-95bb-c750acd36b23"
      },
      "source": [
        "sorted_ratingwise_movie=a.sort_values(ascending=False)\n",
        "sorted_ratingwise_movie"
      ],
      "execution_count": 19,
      "outputs": [
        {
          "output_type": "execute_result",
          "data": {
            "text/plain": [
              "title\n",
              "Miracle of Bern, The (Wunder von Bern, Das) (2003)                        5.0\n",
              "Full Moon in Paris (Les nuits de la pleine lune) (1984)                   5.0\n",
              "Swann in Love (Un amour de Swann) (1984)                                  5.0\n",
              "My Girlfriend's Boyfriend (2010)                                          5.0\n",
              "Movie Movie (1978)                                                        5.0\n",
              "                                                                         ... \n",
              "Nine Dead Gay Guys (2003)                                                 0.5\n",
              "Cinderfella (1960)                                                        0.5\n",
              "Jack and the Cuckoo-Clock Heart (Jack et la mécanique du coeur) (2013)    0.5\n",
              "Station, The (Blutgletscher) (2013)                                       0.5\n",
              "Spring Break Shark Attack (2005)                                          0.5\n",
              "Name: rating, Length: 13799, dtype: float64"
            ]
          },
          "metadata": {
            "tags": []
          },
          "execution_count": 19
        }
      ]
    },
    {
      "cell_type": "code",
      "metadata": {
        "colab": {
          "base_uri": "https://localhost:8080/"
        },
        "id": "lJAQYU2-f-Bj",
        "outputId": "58f424c8-377b-4cd9-ec63-8a56c16df8b6"
      },
      "source": [
        "b=dataset.groupby('title')['rating'].count()\n",
        "b.tail()"
      ],
      "execution_count": 20,
      "outputs": [
        {
          "output_type": "execute_result",
          "data": {
            "text/plain": [
              "title\n",
              "xXx (2002)                                   202\n",
              "xXx: State of the Union (2005)                28\n",
              "¡Three Amigos! (1986)                        286\n",
              "À nos amours (1983)                            1\n",
              "À nous la liberté (Freedom for Us) (1931)      5\n",
              "Name: rating, dtype: int64"
            ]
          },
          "metadata": {
            "tags": []
          },
          "execution_count": 20
        }
      ]
    },
    {
      "cell_type": "code",
      "metadata": {
        "id": "VEDpzKb9f-Bk"
      },
      "source": [
        "# make new dataframe\n",
        "new_record=pd.DataFrame()\n",
        "new_record['average_ratings']=a"
      ],
      "execution_count": 21,
      "outputs": []
    },
    {
      "cell_type": "code",
      "metadata": {
        "id": "415evcKjf-Bl"
      },
      "source": [
        "new_record['count_of_ratings']=b"
      ],
      "execution_count": 22,
      "outputs": []
    },
    {
      "cell_type": "code",
      "metadata": {
        "colab": {
          "base_uri": "https://localhost:8080/",
          "height": 235
        },
        "id": "W35r8iqlf-Bm",
        "outputId": "616cdf60-f613-4ba6-cf10-e7f4956f7c19"
      },
      "source": [
        "new_record.head()"
      ],
      "execution_count": 23,
      "outputs": [
        {
          "output_type": "execute_result",
          "data": {
            "text/html": [
              "<div>\n",
              "<style scoped>\n",
              "    .dataframe tbody tr th:only-of-type {\n",
              "        vertical-align: middle;\n",
              "    }\n",
              "\n",
              "    .dataframe tbody tr th {\n",
              "        vertical-align: top;\n",
              "    }\n",
              "\n",
              "    .dataframe thead th {\n",
              "        text-align: right;\n",
              "    }\n",
              "</style>\n",
              "<table border=\"1\" class=\"dataframe\">\n",
              "  <thead>\n",
              "    <tr style=\"text-align: right;\">\n",
              "      <th></th>\n",
              "      <th>average_ratings</th>\n",
              "      <th>count_of_ratings</th>\n",
              "    </tr>\n",
              "    <tr>\n",
              "      <th>title</th>\n",
              "      <th></th>\n",
              "      <th></th>\n",
              "    </tr>\n",
              "  </thead>\n",
              "  <tbody>\n",
              "    <tr>\n",
              "      <th>\"Great Performances\" Cats (1998)</th>\n",
              "      <td>2.875</td>\n",
              "      <td>8</td>\n",
              "    </tr>\n",
              "    <tr>\n",
              "      <th>$5 a Day (2008)</th>\n",
              "      <td>3.300</td>\n",
              "      <td>5</td>\n",
              "    </tr>\n",
              "    <tr>\n",
              "      <th>'71 (2014)</th>\n",
              "      <td>3.000</td>\n",
              "      <td>1</td>\n",
              "    </tr>\n",
              "    <tr>\n",
              "      <th>'Hellboy': The Seeds of Creation (2004)</th>\n",
              "      <td>3.125</td>\n",
              "      <td>4</td>\n",
              "    </tr>\n",
              "    <tr>\n",
              "      <th>'Neath the Arizona Skies (1934)</th>\n",
              "      <td>3.500</td>\n",
              "      <td>2</td>\n",
              "    </tr>\n",
              "  </tbody>\n",
              "</table>\n",
              "</div>"
            ],
            "text/plain": [
              "                                         average_ratings  count_of_ratings\n",
              "title                                                                     \n",
              "\"Great Performances\" Cats (1998)                   2.875                 8\n",
              "$5 a Day (2008)                                    3.300                 5\n",
              "'71 (2014)                                         3.000                 1\n",
              "'Hellboy': The Seeds of Creation (2004)            3.125                 4\n",
              "'Neath the Arizona Skies (1934)                    3.500                 2"
            ]
          },
          "metadata": {
            "tags": []
          },
          "execution_count": 23
        }
      ]
    },
    {
      "cell_type": "code",
      "metadata": {
        "id": "qv9u2iQff-Bn"
      },
      "source": [
        "# Data visualization\n",
        "import seaborn as sns\n",
        "sns.set_style('white')"
      ],
      "execution_count": 24,
      "outputs": []
    },
    {
      "cell_type": "code",
      "metadata": {
        "colab": {
          "base_uri": "https://localhost:8080/"
        },
        "id": "mBCZXRyUf-Bv",
        "outputId": "bc39f429-c86a-4225-915f-82e012058fc3"
      },
      "source": [
        "new_record.columns"
      ],
      "execution_count": 25,
      "outputs": [
        {
          "output_type": "execute_result",
          "data": {
            "text/plain": [
              "Index(['average_ratings', 'count_of_ratings'], dtype='object')"
            ]
          },
          "metadata": {
            "tags": []
          },
          "execution_count": 25
        }
      ]
    },
    {
      "cell_type": "code",
      "metadata": {
        "colab": {
          "base_uri": "https://localhost:8080/",
          "height": 337
        },
        "id": "SgKNDlerf-Bw",
        "outputId": "50a21746-0a19-4973-9a6f-56935401f229"
      },
      "source": [
        "plt.figure(figsize=(8,5))\n",
        "new_record['count_of_ratings'].hist(bins=100)"
      ],
      "execution_count": 26,
      "outputs": [
        {
          "output_type": "execute_result",
          "data": {
            "text/plain": [
              "<matplotlib.axes._subplots.AxesSubplot at 0x7fa053ad4f50>"
            ]
          },
          "metadata": {
            "tags": []
          },
          "execution_count": 26
        },
        {
          "output_type": "display_data",
          "data": {
            "image/png": "[encoded data removed]",
            "text/plain": [
              "<Figure size 576x360 with 1 Axes>"
            ]
          },
          "metadata": {
            "tags": []
          }
        }
      ]
    },
    {
      "cell_type": "code",
      "metadata": {
        "colab": {
          "base_uri": "https://localhost:8080/",
          "height": 337
        },
        "id": "jGT3RbvQihXX",
        "outputId": "05c2d48c-3d06-4f88-8645-c96e17790190"
      },
      "source": [
        "plt.figure(figsize=(8,5))\n",
        "new_record['average_ratings'].hist(bins=70)"
      ],
      "execution_count": 27,
      "outputs": [
        {
          "output_type": "execute_result",
          "data": {
            "text/plain": [
              "<matplotlib.axes._subplots.AxesSubplot at 0x7fa052bf4d50>"
            ]
          },
          "metadata": {
            "tags": []
          },
          "execution_count": 27
        },
        {
          "output_type": "display_data",
          "data": {
            "image/png": "[encoded data removed]",
            "text/plain": [
              "<Figure size 576x360 with 1 Axes>"
            ]
          },
          "metadata": {
            "tags": []
          }
        }
      ]
    },
    {
      "cell_type": "code",
      "metadata": {
        "colab": {
          "base_uri": "https://localhost:8080/",
          "height": 475
        },
        "id": "DTwwv7kkf-Bx",
        "outputId": "5c70cedb-ff6f-46ad-e809-7aec8c4a0b4f"
      },
      "source": [
        "plt.figure(figsize=(8,6))\n",
        "sns.jointplot(x='average_ratings',y='count_of_ratings',data=new_record,cmap='rainbow')"
      ],
      "execution_count": 30,
      "outputs": [
        {
          "output_type": "execute_result",
          "data": {
            "text/plain": [
              "<seaborn.axisgrid.JointGrid at 0x7fa047e49490>"
            ]
          },
          "metadata": {
            "tags": []
          },
          "execution_count": 30
        },
        {
          "output_type": "display_data",
          "data": {
            "text/plain": [
              "<Figure size 576x432 with 0 Axes>"
            ]
          },
          "metadata": {
            "tags": []
          }
        },
        {
          "output_type": "display_data",
          "data": {
            "image/png": "[encoded data removed]",
            "text/plain": [
              "<Figure size 432x432 with 3 Axes>"
            ]
          },
          "metadata": {
            "tags": []
          }
        }
      ]
    },
    {
      "cell_type": "code",
      "metadata": {
        "colab": {
          "base_uri": "https://localhost:8080/"
        },
        "id": "I3fnoL-Uf-By",
        "outputId": "691e891e-e946-4c0e-dd7f-4094442f38d2"
      },
      "source": [
        "movie_matrix=dataset.pivot_table(index='userId',columns='title',values='rating')\n",
        "movie_matrix.head()\n",
        "movie_matrix.columns"
      ],
      "execution_count": 33,
      "outputs": [
        {
          "output_type": "execute_result",
          "data": {
            "text/plain": [
              "Index(['\"Great Performances\" Cats (1998)', '$5 a Day (2008)', ''71 (2014)',\n",
              "       ''Hellboy': The Seeds of Creation (2004)',\n",
              "       ''Neath the Arizona Skies (1934)', ''R Xmas (2001)',\n",
              "       ''Round Midnight (1986)', ''Salem's Lot (2004)',\n",
              "       ''Til There Was You (1997)', ''burbs, The (1989)',\n",
              "       ...\n",
              "       'Zus & Zo (2001)', '[REC] (2007)', '[REC]² (2009)', 'eXistenZ (1999)',\n",
              "       'loudQUIETloud: A Film About the Pixies (2006)', 'xXx (2002)',\n",
              "       'xXx: State of the Union (2005)', '¡Three Amigos! (1986)',\n",
              "       'À nos amours (1983)', 'À nous la liberté (Freedom for Us) (1931)'],\n",
              "      dtype='object', name='title', length=13799)"
            ]
          },
          "metadata": {
            "tags": []
          },
          "execution_count": 33
        }
      ]
    },
    {
      "cell_type": "code",
      "metadata": {
        "colab": {
          "base_uri": "https://localhost:8080/"
        },
        "id": "e7WtIH-vf-Bz",
        "outputId": "106d32bc-bdca-4a1f-c826-2a1ab1884fae"
      },
      "source": [
        "movie_matrix['xXx (2002)']"
      ],
      "execution_count": 35,
      "outputs": [
        {
          "output_type": "execute_result",
          "data": {
            "text/plain": [
              "userId\n",
              "1      NaN\n",
              "2      NaN\n",
              "3      NaN\n",
              "4      NaN\n",
              "5      NaN\n",
              "        ..\n",
              "6141   NaN\n",
              "6142   NaN\n",
              "6143   NaN\n",
              "6144   NaN\n",
              "6145   NaN\n",
              "Name: xXx (2002), Length: 6145, dtype: float64"
            ]
          },
          "metadata": {
            "tags": []
          },
          "execution_count": 35
        }
      ]
    },
    {
      "cell_type": "code",
      "metadata": {
        "id": "jhs-_I1Lmih0"
      },
      "source": [
        "xXx_2002_ratings=movie_matrix['xXx (2002)']"
      ],
      "execution_count": 38,
      "outputs": []
    },
    {
      "cell_type": "code",
      "metadata": {
        "colab": {
          "base_uri": "https://localhost:8080/"
        },
        "id": "DlXdIbaal5jK",
        "outputId": "ba2c684d-ad2f-47b3-c27f-75c1c2017c22"
      },
      "source": [
        "# Try to find similarities with movie\n",
        "xXx_2002_ratings.tail()"
      ],
      "execution_count": 39,
      "outputs": [
        {
          "output_type": "execute_result",
          "data": {
            "text/plain": [
              "userId\n",
              "6141   NaN\n",
              "6142   NaN\n",
              "6143   NaN\n",
              "6144   NaN\n",
              "6145   NaN\n",
              "Name: xXx (2002), dtype: float64"
            ]
          },
          "metadata": {
            "tags": []
          },
          "execution_count": 39
        }
      ]
    },
    {
      "cell_type": "code",
      "metadata": {
        "colab": {
          "base_uri": "https://localhost:8080/"
        },
        "id": "qkWvQXxnmVra",
        "outputId": "7b11fed6-2e58-4a36-b4c3-030dc6c048da"
      },
      "source": [
        "movies_similar_to_xXx2002=movie_matrix.corrwith(xXx_2002_ratings)\n",
        "movies_similar_to_xXx2002"
      ],
      "execution_count": 40,
      "outputs": [
        {
          "output_type": "stream",
          "text": [
            "/usr/local/lib/python3.7/dist-packages/numpy/lib/function_base.py:2551: RuntimeWarning: Degrees of freedom <= 0 for slice\n",
            "  c = cov(x, y, rowvar)\n",
            "/usr/local/lib/python3.7/dist-packages/numpy/lib/function_base.py:2480: RuntimeWarning: divide by zero encountered in true_divide\n",
            "  c *= np.true_divide(1, fact)\n"
          ],
          "name": "stderr"
        },
        {
          "output_type": "execute_result",
          "data": {
            "text/plain": [
              "title\n",
              "\"Great Performances\" Cats (1998)                  NaN\n",
              "$5 a Day (2008)                                   NaN\n",
              "'71 (2014)                                        NaN\n",
              "'Hellboy': The Seeds of Creation (2004)           NaN\n",
              "'Neath the Arizona Skies (1934)                   NaN\n",
              "                                               ...   \n",
              "xXx (2002)                                   1.000000\n",
              "xXx: State of the Union (2005)               0.418372\n",
              "¡Three Amigos! (1986)                       -0.017579\n",
              "À nos amours (1983)                               NaN\n",
              "À nous la liberté (Freedom for Us) (1931)         NaN\n",
              "Length: 13799, dtype: float64"
            ]
          },
          "metadata": {
            "tags": []
          },
          "execution_count": 40
        }
      ]
    },
    {
      "cell_type": "code",
      "metadata": {
        "colab": {
          "base_uri": "https://localhost:8080/",
          "height": 320
        },
        "id": "UWwyWYZznlHS",
        "outputId": "be2169b9-b6e6-4bfd-8b33-197705e6785f"
      },
      "source": [
        "correlation_matrix=dataset.corr()\n",
        "plt.figure(figsize=(9,5))\n",
        "sns.heatmap(correlation_matrix,annot=True,vmax=0.9,square=True)\n",
        "plt.show()"
      ],
      "execution_count": 41,
      "outputs": [
        {
          "output_type": "display_data",
          "data": {
            "image/png": "[encoded data removed]",
            "text/plain": [
              "<Figure size 648x360 with 2 Axes>"
            ]
          },
          "metadata": {
            "tags": []
          }
        }
      ]
    },
    {
      "cell_type": "code",
      "metadata": {
        "colab": {
          "base_uri": "https://localhost:8080/",
          "height": 450
        },
        "id": "iSpPDQfMpSuz",
        "outputId": "1dfeb650-237f-441f-88e8-353ad83d61f2"
      },
      "source": [
        "xXx_2002_corr=pd.DataFrame(movies_similar_to_xXx2002,columns=['correlation'])\n",
        "xXx_2002_corr.dropna(inplace=True)\n",
        "xXx_2002_corr"
      ],
      "execution_count": 43,
      "outputs": [
        {
          "output_type": "execute_result",
          "data": {
            "text/html": [
              "<div>\n",
              "<style scoped>\n",
              "    .dataframe tbody tr th:only-of-type {\n",
              "        vertical-align: middle;\n",
              "    }\n",
              "\n",
              "    .dataframe tbody tr th {\n",
              "        vertical-align: top;\n",
              "    }\n",
              "\n",
              "    .dataframe thead th {\n",
              "        text-align: right;\n",
              "    }\n",
              "</style>\n",
              "<table border=\"1\" class=\"dataframe\">\n",
              "  <thead>\n",
              "    <tr style=\"text-align: right;\">\n",
              "      <th></th>\n",
              "      <th>correlation</th>\n",
              "    </tr>\n",
              "    <tr>\n",
              "      <th>title</th>\n",
              "      <th></th>\n",
              "    </tr>\n",
              "  </thead>\n",
              "  <tbody>\n",
              "    <tr>\n",
              "      <th>'Til There Was You (1997)</th>\n",
              "      <td>1.000000</td>\n",
              "    </tr>\n",
              "    <tr>\n",
              "      <th>'burbs, The (1989)</th>\n",
              "      <td>0.053614</td>\n",
              "    </tr>\n",
              "    <tr>\n",
              "      <th>(500) Days of Summer (2009)</th>\n",
              "      <td>-0.024925</td>\n",
              "    </tr>\n",
              "    <tr>\n",
              "      <th>*batteries not included (1987)</th>\n",
              "      <td>-0.152583</td>\n",
              "    </tr>\n",
              "    <tr>\n",
              "      <th>...And Justice for All (1979)</th>\n",
              "      <td>0.356348</td>\n",
              "    </tr>\n",
              "    <tr>\n",
              "      <th>...</th>\n",
              "      <td>...</td>\n",
              "    </tr>\n",
              "    <tr>\n",
              "      <th>[REC] (2007)</th>\n",
              "      <td>0.125000</td>\n",
              "    </tr>\n",
              "    <tr>\n",
              "      <th>eXistenZ (1999)</th>\n",
              "      <td>0.096865</td>\n",
              "    </tr>\n",
              "    <tr>\n",
              "      <th>xXx (2002)</th>\n",
              "      <td>1.000000</td>\n",
              "    </tr>\n",
              "    <tr>\n",
              "      <th>xXx: State of the Union (2005)</th>\n",
              "      <td>0.418372</td>\n",
              "    </tr>\n",
              "    <tr>\n",
              "      <th>¡Three Amigos! (1986)</th>\n",
              "      <td>-0.017579</td>\n",
              "    </tr>\n",
              "  </tbody>\n",
              "</table>\n",
              "<p>6167 rows × 1 columns</p>\n",
              "</div>"
            ],
            "text/plain": [
              "                                correlation\n",
              "title                                      \n",
              "'Til There Was You (1997)          1.000000\n",
              "'burbs, The (1989)                 0.053614\n",
              "(500) Days of Summer (2009)       -0.024925\n",
              "*batteries not included (1987)    -0.152583\n",
              "...And Justice for All (1979)      0.356348\n",
              "...                                     ...\n",
              "[REC] (2007)                       0.125000\n",
              "eXistenZ (1999)                    0.096865\n",
              "xXx (2002)                         1.000000\n",
              "xXx: State of the Union (2005)     0.418372\n",
              "¡Three Amigos! (1986)             -0.017579\n",
              "\n",
              "[6167 rows x 1 columns]"
            ]
          },
          "metadata": {
            "tags": []
          },
          "execution_count": 43
        }
      ]
    },
    {
      "cell_type": "code",
      "metadata": {
        "colab": {
          "base_uri": "https://localhost:8080/",
          "height": 235
        },
        "id": "DlJXU6UPqyy3",
        "outputId": "7d024b90-1fc0-4db9-c060-cb6f510a94ff"
      },
      "source": [
        "xXx_2002_corr=pd.DataFrame(movies_similar_to_xXx2002,columns=['correlation'])\n",
        "xXx_2002_corr.dropna(inplace=True)\n",
        "xXx_2002_corr.head()"
      ],
      "execution_count": 44,
      "outputs": [
        {
          "output_type": "execute_result",
          "data": {
            "text/html": [
              "<div>\n",
              "<style scoped>\n",
              "    .dataframe tbody tr th:only-of-type {\n",
              "        vertical-align: middle;\n",
              "    }\n",
              "\n",
              "    .dataframe tbody tr th {\n",
              "        vertical-align: top;\n",
              "    }\n",
              "\n",
              "    .dataframe thead th {\n",
              "        text-align: right;\n",
              "    }\n",
              "</style>\n",
              "<table border=\"1\" class=\"dataframe\">\n",
              "  <thead>\n",
              "    <tr style=\"text-align: right;\">\n",
              "      <th></th>\n",
              "      <th>correlation</th>\n",
              "    </tr>\n",
              "    <tr>\n",
              "      <th>title</th>\n",
              "      <th></th>\n",
              "    </tr>\n",
              "  </thead>\n",
              "  <tbody>\n",
              "    <tr>\n",
              "      <th>'Til There Was You (1997)</th>\n",
              "      <td>1.000000</td>\n",
              "    </tr>\n",
              "    <tr>\n",
              "      <th>'burbs, The (1989)</th>\n",
              "      <td>0.053614</td>\n",
              "    </tr>\n",
              "    <tr>\n",
              "      <th>(500) Days of Summer (2009)</th>\n",
              "      <td>-0.024925</td>\n",
              "    </tr>\n",
              "    <tr>\n",
              "      <th>*batteries not included (1987)</th>\n",
              "      <td>-0.152583</td>\n",
              "    </tr>\n",
              "    <tr>\n",
              "      <th>...And Justice for All (1979)</th>\n",
              "      <td>0.356348</td>\n",
              "    </tr>\n",
              "  </tbody>\n",
              "</table>\n",
              "</div>"
            ],
            "text/plain": [
              "                                correlation\n",
              "title                                      \n",
              "'Til There Was You (1997)          1.000000\n",
              "'burbs, The (1989)                 0.053614\n",
              "(500) Days of Summer (2009)       -0.024925\n",
              "*batteries not included (1987)    -0.152583\n",
              "...And Justice for All (1979)      0.356348"
            ]
          },
          "metadata": {
            "tags": []
          },
          "execution_count": 44
        }
      ]
    },
    {
      "cell_type": "code",
      "metadata": {
        "id": "2DSvbiYCuSOD"
      },
      "source": [
        ""
      ],
      "execution_count": null,
      "outputs": []
    }
  ]
}